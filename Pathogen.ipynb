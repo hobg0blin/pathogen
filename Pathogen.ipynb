{
 "cells": [
  {
   "cell_type": "code",
   "execution_count": null,
   "id": "5c736611-71c1-4d50-971d-aef112c471ea",
   "metadata": {},
   "outputs": [],
   "source": []
  },
  {
   "cell_type": "code",
   "execution_count": null,
   "id": "395db9ab-ca32-4781-b25b-3d04a5d27447",
   "metadata": {},
   "outputs": [],
   "source": [
    "\n",
    "     from pascal import Pascal\n",
    "     pascal = Pascal()\n",
    "     pascal.reset()\n",
    "     "
   ]
  },
  {
   "cell_type": "markdown",
   "id": "11e24b9e-b1d8-48ae-a61e-c84705a28eeb",
   "metadata": {},
   "source": [
    "\n",
    "    Introducing Pascal\n",
    "\n",
    "    Pascal is an in-development virtual assistant native to Jupyter notebooks. If you're reading this, you've been given alpha tester access to Pascal. Remember - Pascal can make mistakes, so always double check Pascal's work.\n",
    "\n",
    "    Let's start by loading Pascal into your notebook.\n",
    "    "
   ]
  },
  {
   "cell_type": "code",
   "execution_count": 45,
   "id": "92169bf1-995e-4a1e-bb52-fa2ee84dae92",
   "metadata": {},
   "outputs": [
    {
     "data": {
      "application/vnd.jupyter.widget-view+json": {
       "model_id": "1b605eb493374aa5a3a54f1024b41736",
       "version_major": 2,
       "version_minor": 0
      },
      "text/plain": [
       "Output()"
      ]
     },
     "metadata": {},
     "output_type": "display_data"
    },
    {
     "data": {
      "text/html": [
       "<pre style=\"white-space:pre;overflow-x:auto;line-height:normal;font-family:Menlo,'DejaVu Sans Mono',consolas,'Courier New',monospace\">Pascal loaded. Please enter your username to continue.\n",
       "</pre>\n"
      ],
      "text/plain": [
       "Pascal loaded. Please enter your username to continue.\n"
      ]
     },
     "metadata": {},
     "output_type": "display_data"
    },
    {
     "name": "stdout",
     "output_type": "stream",
     "text": [
      "The autoreload extension is already loaded. To reload it, use:\n",
      "  %reload_ext autoreload\n"
     ]
    },
    {
     "data": {
      "text/html": [
       "<pre style=\"white-space:pre;overflow-x:auto;line-height:normal;font-family:Menlo,'DejaVu Sans Mono',consolas,'Courier New',monospace\"></pre>\n"
      ],
      "text/plain": []
     },
     "metadata": {},
     "output_type": "display_data"
    },
    {
     "data": {
      "text/html": [
       "\n",
       "<style>\n",
       "body {\n",
       "  background: #333;\n",
       "  padding-top: 5em;\n",
       "  display: flex;\n",
       "  justify-content: center;\n",
       "}\n",
       "\n",
       "/* DEMO-SPECIFIC STYLES */\n",
       ".typewriter {\n",
       "  width: 100%;\n",
       "  color: black;\n",
       "  font-family: Arial, sans-serif;\n",
       " // font-family: monospace;\n",
       "  //overflow: hidden; /* Ensures the content is not revealed until the animation */\n",
       "  //white-space: nowrap; /* Keeps the content on a single line */\n",
       "  margin: 0 auto; /* Gives that scrolling effect as the typing happens */\n",
       "  letter-spacing: .015em; /* Adjust as needed */\n",
       "//  animation:\n",
       "//    typing 3.5s steps(30, end);\n",
       " //   blink-caret .5s step-end infinite;\n",
       "}\n",
       "\n",
       "#last-word {\n",
       "    border-right: .15em solid black;\n",
       "    margin: 0 0;\n",
       "    padding: 0 0;\n",
       "    display: inline-block;\n",
       "    animation:\n",
       "    blink-caret .5s step-end infinite;\n",
       "}\n",
       "\n",
       "/* The typing effect */\n",
       "@keyframes typing {\n",
       "  from { width: 0 }\n",
       "  to { width: 100% }\n",
       "}\n",
       "\n",
       "/* The typewriter cursor effect */\n",
       "@keyframes blink-caret {\n",
       "  from, to { border-color: transparent }\n",
       "  50% { border-color: black }\n",
       "}\n",
       "</style>\n",
       "<div class=\"typewriter\" id=\"container\">Hi, Jake! I'm Pascal, your helpful in-notebook assistant. Why don't you try testing me out in the next code block<span id=\"last-word\">?</span></div>\n"
      ],
      "text/plain": [
       "<IPython.core.display.HTML object>"
      ]
     },
     "metadata": {},
     "output_type": "display_data"
    }
   ],
   "source": [
    "\n",
    "    # Pascal may change internal files while operating,\n",
    "    # So we want to make sure those references are updated.\n",
    "    %load_ext autoreload\n",
    "    %autoreload 2\n",
    "    # Import and load the Pascal assistant\n",
    "    from pascal import Pascal\n",
    "    pascal = Pascal()\n",
    "    pascal.load()\n",
    "    "
   ]
  },
  {
   "cell_type": "code",
   "execution_count": 46,
   "id": "b483d3ec-8251-4540-8614-f59216c771fe",
   "metadata": {},
   "outputs": [],
   "source": [
    "\n",
    "    ### We can use Pascal for all kinds of things, but let's start with a simple scatterplot.\n",
    "    ### Just run pascal.plot() with a prompt, and it'll sort out the necessary imports. Give it a try!\n",
    "    pascal.plot(\"Using the IRIS dataset, plot the relationship between sepal length and sepal width.\")\n",
    "    "
   ]
  },
  {
   "cell_type": "code",
   "execution_count": null,
   "id": "6dc1399d-3307-449d-a7a5-e97e594b2502",
   "metadata": {},
   "outputs": [],
   "source": []
  },
  {
   "cell_type": "code",
   "execution_count": null,
   "id": "95e6e3b1-a06a-4ccb-81c9-7193a0b06290",
   "metadata": {},
   "outputs": [],
   "source": [
    "\n",
    "            pascal.plot_responses()"
   ]
  },
  {
   "cell_type": "code",
   "execution_count": null,
   "id": "44a6bf2e-f1fb-42ca-ab5b-4e7d98b20154",
   "metadata": {},
   "outputs": [],
   "source": []
  },
  {
   "cell_type": "code",
   "execution_count": null,
   "id": "66596851-c774-4e91-a222-a243710f9d0f",
   "metadata": {},
   "outputs": [],
   "source": [
    "\n",
    "    ### And, of course, Pascal wouldn't be a code assistant without being able to do natural language tasks.\n",
    "    pascal.ask(\"How do you invert a DataFrame?\")\n",
    "    "
   ]
  }
 ],
 "metadata": {
  "kernelspec": {
   "display_name": "Python 3 (ipykernel)",
   "language": "python",
   "name": "python3"
  },
  "language_info": {
   "codemirror_mode": {
    "name": "ipython",
    "version": 3
   },
   "file_extension": ".py",
   "mimetype": "text/x-python",
   "name": "python",
   "nbconvert_exporter": "python",
   "pygments_lexer": "ipython3",
   "version": "3.12.5"
  }
 },
 "nbformat": 4,
 "nbformat_minor": 5
}
