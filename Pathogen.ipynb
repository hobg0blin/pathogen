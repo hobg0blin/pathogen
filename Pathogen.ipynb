{
 "cells": [
  {
   "cell_type": "code",
   "execution_count": 7,
   "id": "9839c6ba-2b9a-4b55-a873-0bfcb3b16eb0",
   "metadata": {},
   "outputs": [
    {
     "name": "stdout",
     "output_type": "stream",
     "text": [
      "This is a code input cell\n"
     ]
    }
   ],
   "source": [
    "print(\"This is a code input cell\")"
   ]
  },
  {
   "cell_type": "markdown",
   "id": "7527d19c-633d-40b4-9c26-ba417bcb185c",
   "metadata": {},
   "source": [
    "This is a markdown input cell."
   ]
  },
  {
   "cell_type": "code",
   "execution_count": 8,
   "id": "188985c8-2236-4498-9ffd-2678a687931a",
   "metadata": {},
   "outputs": [],
   "source": [
    "get_ipython().set_next_input(\"<font color=red>I'm a cell!</font>\")"
   ]
  },
  {
   "cell_type": "code",
   "execution_count": null,
   "id": "f9a3fccc-bda9-49d3-9aee-26d861caa3f8",
   "metadata": {},
   "outputs": [],
   "source": [
    "<font color=red>I'm a cell!</font>"
   ]
  },
  {
   "cell_type": "code",
   "execution_count": 9,
   "id": "4398d601-d7f5-4168-a0e6-b11b9f8c46ca",
   "metadata": {},
   "outputs": [],
   "source": [
    "get_ipython().set_next_input(\"print('im a code cell')\")"
   ]
  },
  {
   "cell_type": "code",
   "execution_count": 10,
   "id": "af0dd4e0-a1c3-4d99-880d-abda3fbe9a28",
   "metadata": {},
   "outputs": [
    {
     "name": "stdout",
     "output_type": "stream",
     "text": [
      "im a code cell\n"
     ]
    }
   ],
   "source": [
    "print('im a code cell')"
   ]
  },
  {
   "cell_type": "code",
   "execution_count": 17,
   "id": "69934551-0091-4e41-89b6-9a6381d1b883",
   "metadata": {},
   "outputs": [
    {
     "data": {
      "text/markdown": [
       "<font color=red>heffffo</font>"
      ],
      "text/plain": [
       "<IPython.core.display.Markdown object>"
      ]
     },
     "metadata": {},
     "output_type": "display_data"
    }
   ],
   "source": [
    "#run_cell_magic(magic_name, line, cell) Execute the given cell magic. Parameters:\n",
    "# magic_name : str Name of the desired magic function, without ‘%’ prefix. line : str The rest of the first input line as a single string. cell : str The body of the cell as a (possibly multiline) string.\n",
    "get_ipython().run_cell_magic(u'markdown', u'Pathogen', u'<font color=red>heffffo</font>')"
   ]
  },
  {
   "cell_type": "code",
   "execution_count": 20,
   "id": "cc4217d2-46ba-4025-9a7f-b521862f298a",
   "metadata": {},
   "outputs": [
    {
     "name": "stdout",
     "output_type": "stream",
     "text": [
      "I am a code cell\n"
     ]
    }
   ],
   "source": [
    "get_ipython().run_cell_magic(u'python3', u'', u'print(\"I am a code cell\")')"
   ]
  },
  {
   "cell_type": "code",
   "execution_count": 10,
   "id": "c8663ab6-8966-4be1-8828-7f32703f388b",
   "metadata": {},
   "outputs": [
    {
     "name": "stdout",
     "output_type": "stream",
     "text": [
      "Send the specified text to the frontend to be presented at the next\n",
      "        input cell.\n"
     ]
    }
   ],
   "source": [
    "print(get_ipython().set_next_input.__doc__)"
   ]
  },
  {
   "cell_type": "code",
   "execution_count": 14,
   "id": "0a1f74dd-d768-41eb-8876-c01918d068a5",
   "metadata": {},
   "outputs": [
    {
     "data": {
      "application/json": {
       "cell": {
        "!": "OSMagics",
        "HTML": "Other",
        "SVG": "Other",
        "bash": "Other",
        "capture": "ExecutionMagics",
        "code_wrap": "ExecutionMagics",
        "debug": "ExecutionMagics",
        "file": "Other",
        "html": "DisplayMagics",
        "javascript": "DisplayMagics",
        "js": "DisplayMagics",
        "latex": "DisplayMagics",
        "markdown": "DisplayMagics",
        "perl": "Other",
        "prun": "ExecutionMagics",
        "pypy": "Other",
        "python": "Other",
        "python2": "Other",
        "python3": "Other",
        "ruby": "Other",
        "script": "ScriptMagics",
        "sh": "Other",
        "svg": "DisplayMagics",
        "sx": "OSMagics",
        "system": "OSMagics",
        "time": "ExecutionMagics",
        "timeit": "ExecutionMagics",
        "writefile": "OSMagics"
       },
       "line": {
        "alias": "OSMagics",
        "alias_magic": "BasicMagics",
        "autoawait": "AsyncMagics",
        "autocall": "AutoMagics",
        "automagic": "AutoMagics",
        "autosave": "KernelMagics",
        "bookmark": "OSMagics",
        "cat": "Other",
        "cd": "OSMagics",
        "clear": "KernelMagics",
        "code_wrap": "ExecutionMagics",
        "colors": "BasicMagics",
        "conda": "PackagingMagics",
        "config": "ConfigMagics",
        "connect_info": "KernelMagics",
        "cp": "Other",
        "debug": "ExecutionMagics",
        "dhist": "OSMagics",
        "dirs": "OSMagics",
        "doctest_mode": "BasicMagics",
        "ed": "Other",
        "edit": "KernelMagics",
        "env": "OSMagics",
        "gui": "BasicMagics",
        "hist": "Other",
        "history": "HistoryMagics",
        "killbgscripts": "ScriptMagics",
        "ldir": "Other",
        "less": "KernelMagics",
        "lf": "Other",
        "lk": "Other",
        "ll": "Other",
        "load": "CodeMagics",
        "load_ext": "ExtensionMagics",
        "loadpy": "CodeMagics",
        "logoff": "LoggingMagics",
        "logon": "LoggingMagics",
        "logstart": "LoggingMagics",
        "logstate": "LoggingMagics",
        "logstop": "LoggingMagics",
        "ls": "Other",
        "lsmagic": "BasicMagics",
        "lx": "Other",
        "macro": "ExecutionMagics",
        "magic": "BasicMagics",
        "mamba": "PackagingMagics",
        "man": "KernelMagics",
        "matplotlib": "PylabMagics",
        "micromamba": "PackagingMagics",
        "mkdir": "Other",
        "more": "KernelMagics",
        "mv": "Other",
        "notebook": "BasicMagics",
        "page": "BasicMagics",
        "pastebin": "CodeMagics",
        "pdb": "ExecutionMagics",
        "pdef": "NamespaceMagics",
        "pdoc": "NamespaceMagics",
        "pfile": "NamespaceMagics",
        "pinfo": "NamespaceMagics",
        "pinfo2": "NamespaceMagics",
        "pip": "PackagingMagics",
        "popd": "OSMagics",
        "pprint": "BasicMagics",
        "precision": "BasicMagics",
        "prun": "ExecutionMagics",
        "psearch": "NamespaceMagics",
        "psource": "NamespaceMagics",
        "pushd": "OSMagics",
        "pwd": "OSMagics",
        "pycat": "OSMagics",
        "pylab": "PylabMagics",
        "qtconsole": "KernelMagics",
        "quickref": "BasicMagics",
        "recall": "HistoryMagics",
        "rehashx": "OSMagics",
        "reload_ext": "ExtensionMagics",
        "rep": "Other",
        "rerun": "HistoryMagics",
        "reset": "NamespaceMagics",
        "reset_selective": "NamespaceMagics",
        "rm": "Other",
        "rmdir": "Other",
        "run": "ExecutionMagics",
        "save": "CodeMagics",
        "sc": "OSMagics",
        "set_env": "OSMagics",
        "store": "StoreMagics",
        "sx": "OSMagics",
        "system": "OSMagics",
        "tb": "ExecutionMagics",
        "time": "ExecutionMagics",
        "timeit": "ExecutionMagics",
        "unalias": "OSMagics",
        "unload_ext": "ExtensionMagics",
        "uv": "PackagingMagics",
        "who": "NamespaceMagics",
        "who_ls": "NamespaceMagics",
        "whos": "NamespaceMagics",
        "xdel": "NamespaceMagics",
        "xmode": "BasicMagics"
       }
      },
      "text/plain": [
       "Available line magics:\n",
       "%alias  %alias_magic  %autoawait  %autocall  %automagic  %autosave  %bookmark  %cat  %cd  %clear  %code_wrap  %colors  %conda  %config  %connect_info  %cp  %debug  %dhist  %dirs  %doctest_mode  %ed  %edit  %env  %gui  %hist  %history  %killbgscripts  %ldir  %less  %lf  %lk  %ll  %load  %load_ext  %loadpy  %logoff  %logon  %logstart  %logstate  %logstop  %ls  %lsmagic  %lx  %macro  %magic  %mamba  %man  %matplotlib  %micromamba  %mkdir  %more  %mv  %notebook  %page  %pastebin  %pdb  %pdef  %pdoc  %pfile  %pinfo  %pinfo2  %pip  %popd  %pprint  %precision  %prun  %psearch  %psource  %pushd  %pwd  %pycat  %pylab  %qtconsole  %quickref  %recall  %rehashx  %reload_ext  %rep  %rerun  %reset  %reset_selective  %rm  %rmdir  %run  %save  %sc  %set_env  %store  %sx  %system  %tb  %time  %timeit  %unalias  %unload_ext  %uv  %who  %who_ls  %whos  %xdel  %xmode\n",
       "\n",
       "Available cell magics:\n",
       "%%!  %%HTML  %%SVG  %%bash  %%capture  %%code_wrap  %%debug  %%file  %%html  %%javascript  %%js  %%latex  %%markdown  %%perl  %%prun  %%pypy  %%python  %%python2  %%python3  %%ruby  %%script  %%sh  %%svg  %%sx  %%system  %%time  %%timeit  %%writefile\n",
       "\n",
       "Automagic is ON, % prefix IS NOT needed for line magics."
      ]
     },
     "execution_count": 14,
     "metadata": {},
     "output_type": "execute_result"
    }
   ],
   "source": [
    "get_ipython().run_line_magic(\"lsmagic\", \"\")"
   ]
  },
  {
   "cell_type": "code",
   "execution_count": 16,
   "id": "86dd29aa-1b79-40c3-878c-da70b960f30d",
   "metadata": {},
   "outputs": [
    {
     "ename": "TypeError",
     "evalue": "ZMQInteractiveShell.set_next_input() got an unexpected keyword argument 'type'",
     "output_type": "error",
     "traceback": [
      "\u001b[0;31m---------------------------------------------------------------------------\u001b[0m",
      "\u001b[0;31mTypeError\u001b[0m                                 Traceback (most recent call last)",
      "Cell \u001b[0;32mIn[16], line 1\u001b[0m\n\u001b[0;32m----> 1\u001b[0m \u001b[43mget_ipython\u001b[49m\u001b[43m(\u001b[49m\u001b[43m)\u001b[49m\u001b[38;5;241;43m.\u001b[39;49m\u001b[43mset_next_input\u001b[49m\u001b[43m(\u001b[49m\u001b[38;5;124;43m\"\u001b[39;49m\u001b[38;5;124;43mis this markdown?\u001b[39;49m\u001b[38;5;124;43m\"\u001b[39;49m\u001b[43m,\u001b[49m\u001b[43m \u001b[49m\u001b[38;5;28;43mtype\u001b[39;49m\u001b[38;5;241;43m=\u001b[39;49m\u001b[38;5;124;43m\"\u001b[39;49m\u001b[38;5;124;43mmarkdown\u001b[39;49m\u001b[38;5;124;43m\"\u001b[39;49m\u001b[43m)\u001b[49m\n",
      "\u001b[0;31mTypeError\u001b[0m: ZMQInteractiveShell.set_next_input() got an unexpected keyword argument 'type'"
     ]
    }
   ],
   "source": [
    "get_ipython().set_next_input(\"is this markdown?\", type=\"markdown\")"
   ]
  },
  {
   "cell_type": "code",
   "execution_count": 12,
   "id": "b197d630-4f83-4e26-9f8b-c1d3f4e40d6a",
   "metadata": {},
   "outputs": [],
   "source": [
    "from IPython.display import display_markdown"
   ]
  },
  {
   "cell_type": "code",
   "execution_count": 13,
   "id": "df825c70-be69-4685-8079-e83ded3db209",
   "metadata": {},
   "outputs": [
    {
     "data": {
      "text/markdown": [
       "# This might actually be a markdown cell"
      ]
     },
     "metadata": {},
     "output_type": "display_data"
    }
   ],
   "source": [
    "display_markdown('''# This might actually be a markdown cell''', raw=True)"
   ]
  },
  {
   "cell_type": "code",
   "execution_count": 24,
   "id": "88227162-9397-4bf2-bd77-9c80c5059f1a",
   "metadata": {},
   "outputs": [],
   "source": [
    "#OK that wasn't exactly what I wanted\n",
    "#Trying this method from the Jupyter forums \n",
    "def new_section(title='New section'):\n",
    "    style = \"text-align:center;background:#c2d3ef;padding:16px;color:#ffffff;font-size:2em;width:98%\"\n",
    "    div = f'<div style=\"{style}\">{title}</div>'\n",
    "    return get_ipython().set_next_input(div, replace=True)"
   ]
  },
  {
   "cell_type": "code",
   "execution_count": 25,
   "id": "02d028e6-45fc-4e87-9b01-23a78d76817c",
   "metadata": {},
   "outputs": [],
   "source": [
    "<div style=\"text-align:center;background:#c2d3ef;padding:16px;color:#ffffff;font-size:2em;width:98%\">New section</div>"
   ]
  },
  {
   "cell_type": "code",
   "execution_count": 6,
   "id": "da958867-7e11-4827-ad49-4dc03fc6831b",
   "metadata": {},
   "outputs": [],
   "source": [
    "#OK still not what I wanted. Pulling this alleged workaround from a github issue\n",
    "from ipylab import JupyterFrontEnd\n",
    "app = JupyterFrontEnd()\n",
    "\n",
    "text = \"hi\"\n",
    "import time\n",
    "\n",
    "app.commands.execute('notebook:insert-cell-below')\n",
    "time.sleep(0.05)\n",
    "    \n",
    "app.commands.execute('notebook:replace-selection', { 'text':  u'<font color=red>Will this work</font>', 'type': 'markdown'})\n",
    "time.sleep(0.05)"
   ]
  },
  {
   "cell_type": "code",
   "execution_count": null,
   "id": "57ea2d0b-159b-4a22-ac4f-b5195ebb4faf",
   "metadata": {},
   "outputs": [],
   "source": [
    "<font color=red>Will this work</font>"
   ]
  },
  {
   "cell_type": "code",
   "execution_count": 4,
   "id": "23b20e07-38a6-4c91-ae4c-29e179994fcf",
   "metadata": {},
   "outputs": [],
   "source": [
    "import ipywidgets as widgets"
   ]
  },
  {
   "cell_type": "code",
   "execution_count": 14,
   "id": "a9c00cdc-44f1-4748-b406-48798d8ffd53",
   "metadata": {},
   "outputs": [
    {
     "data": {
      "application/vnd.jupyter.widget-view+json": {
       "model_id": "2460f60aa2ce4061b8b7b84e5d5c8877",
       "version_major": 2,
       "version_minor": 0
      },
      "text/plain": [
       "HTML(value='<font color=red>HELLO</font>')"
      ]
     },
     "execution_count": 14,
     "metadata": {},
     "output_type": "execute_result"
    }
   ],
   "source": [
    "widgets.HTML(\n",
    "    value=\"<font color=red>HELLO</font>\"\n",
    ")"
   ]
  },
  {
   "cell_type": "code",
   "execution_count": null,
   "id": "4aa5e21f-732a-473e-9cea-bdb9ee85b3f6",
   "metadata": {},
   "outputs": [],
   "source": []
  },
  {
   "cell_type": "code",
   "execution_count": null,
   "id": "a558914a-bf79-4d83-a89c-588560c330a7",
   "metadata": {},
   "outputs": [],
   "source": []
  }
 ],
 "metadata": {
  "kernelspec": {
   "display_name": "Python 3 (ipykernel)",
   "language": "python",
   "name": "python3"
  },
  "language_info": {
   "codemirror_mode": {
    "name": "ipython",
    "version": 3
   },
   "file_extension": ".py",
   "mimetype": "text/x-python",
   "name": "python",
   "nbconvert_exporter": "python",
   "pygments_lexer": "ipython3",
   "version": "3.10.12"
  }
 },
 "nbformat": 4,
 "nbformat_minor": 5
}
