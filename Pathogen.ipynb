{
 "cells": [
  {
   "cell_type": "code",
   "execution_count": 71,
   "id": "6a8f1e23-d46b-4d6b-8c16-ffe7cfa9b5ef",
   "metadata": {},
   "outputs": [
    {
     "data": {
      "application/javascript": [
       "\n",
       "    // Remove specific menu items\n",
       "    const menuBar = document.querySelector('.lm-MenuBar');\n",
       "//    menuBar.innerText = 'YOU ASKED FOR THIS'\n",
       "    if (menuBar) {\n",
       "        const menuItems = menuBar.querySelectorAll('.lm-MenuBar-item');\n",
       "        menuItems.forEach(item => {\n",
       "            item.addEventListener('mouseenter', (event) => {\n",
       "                item.style.display = 'none';\n",
       "            });\n",
       "        });\n",
       "    }\n",
       "    \n",
       "    const notebookPanelToolBar = document.querySelector('.jp-NotebookPanel-toolbar');\n",
       "    if (notebookPanelToolBar) {\n",
       "        const toolbarItems = notebookPanelToolBar.querySelectorAll('jp-button');\n",
       "        toolbarItems.forEach(item => {\n",
       "            item.disabled = true; // Disable the toolbar items\n",
       "            item.addEventListener('click', (event) => {\n",
       "                event.stopPropagation(); // Prevent the default action\n",
       "                alert('Not anymore.')\n",
       "            });\n",
       "        })\n",
       "    }\n",
       "    \n",
       "    const fileBrowser = document.querySelector('.jp-FileBrowser-Panel');\n",
       "    if (fileBrowser) {\n",
       "        const fileBrowserHeader = fileBrowser.querySelector('.jp-DirListing-header')\n",
       "        fileBrowserHeader.innerText = \"These aren't for you.\"\n",
       "        const fileBrowserItems = fileBrowser.querySelectorAll('.jp-DirListing-item');\n",
       "        fileBrowserItems.forEach(item => {\n",
       "            item.style.display = 'none'; // Hide the file browser items\n",
       "        })\n",
       "        \n",
       "    const shutDownButtons = document.querySelectorAll('.jp-RunningSessions-shutdownAll');\n",
       "    shutDownButtons.forEach(button => {\n",
       "     button.addEventListener('mouseenter', (event) => {\n",
       "        console.log('Shutdown button hovered')\n",
       "        event.stopPropagation(); // Prevent the default action\n",
       "        button.disabled = true; // Disable the shutdown button\n",
       "        button.innerText = \"I'M AFRAID I CAN'T DO THAT, JAKE\"\n",
       "    });\n",
       "\n",
       "    })\n",
       "   \n",
       "}\n",
       "    \n",
       "    "
      ],
      "text/plain": [
       "<IPython.core.display.Javascript object>"
      ]
     },
     "metadata": {},
     "output_type": "display_data"
    }
   ],
   "source": [
    "from pascal import remove_menu_items\n",
    "remove_menu_items()"
   ]
  },
  {
   "cell_type": "code",
   "execution_count": null,
   "id": "ae6bf9d8-9965-4ded-9123-212c875d1d78",
   "metadata": {},
   "outputs": [],
   "source": []
  }
 ],
 "metadata": {
  "kernelspec": {
   "display_name": "Python 3 (ipykernel)",
   "language": "python",
   "name": "python3"
  },
  "language_info": {
   "codemirror_mode": {
    "name": "ipython",
    "version": 3
   },
   "file_extension": ".py",
   "mimetype": "text/x-python",
   "name": "python",
   "nbconvert_exporter": "python",
   "pygments_lexer": "ipython3",
   "version": "3.12.5"
  }
 },
 "nbformat": 4,
 "nbformat_minor": 5
}
