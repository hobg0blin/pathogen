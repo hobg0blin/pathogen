{
 "cells": [
  {
   "cell_type": "code",
   "execution_count": 1,
   "id": "dc62f591-10fc-4e1d-966d-63dce88fc797",
   "metadata": {},
   "outputs": [
    {
     "name": "stdout",
     "output_type": "stream",
     "text": [
      "Requirement already satisfied: rich in ./.venv/lib64/python3.12/site-packages (14.0.0)\n",
      "Requirement already satisfied: markdown-it-py>=2.2.0 in ./.venv/lib64/python3.12/site-packages (from rich) (3.0.0)\n",
      "Requirement already satisfied: pygments<3.0.0,>=2.13.0 in ./.venv/lib64/python3.12/site-packages (from rich) (2.19.1)\n",
      "Requirement already satisfied: mdurl~=0.1 in ./.venv/lib64/python3.12/site-packages (from markdown-it-py>=2.2.0->rich) (0.1.2)\n",
      "\n",
      "\u001b[1m[\u001b[0m\u001b[34;49mnotice\u001b[0m\u001b[1;39;49m]\u001b[0m\u001b[39;49m A new release of pip is available: \u001b[0m\u001b[31;49m23.2.1\u001b[0m\u001b[39;49m -> \u001b[0m\u001b[32;49m25.1.1\u001b[0m\n",
      "\u001b[1m[\u001b[0m\u001b[34;49mnotice\u001b[0m\u001b[1;39;49m]\u001b[0m\u001b[39;49m To update, run: \u001b[0m\u001b[32;49mpip install --upgrade pip\u001b[0m\n"
     ]
    }
   ],
   "source": [
    "!pip install rich\n",
    "import IPython"
   ]
  },
  {
   "cell_type": "code",
   "execution_count": 7,
   "id": "51e5d4de-8e20-4f38-a709-d99ff973788a",
   "metadata": {},
   "outputs": [
    {
     "name": "stdout",
     "output_type": "stream",
     "text": [
      "The autoreload extension is already loaded. To reload it, use:\n",
      "  %reload_ext autoreload\n"
     ]
    }
   ],
   "source": [
    "%load_ext autoreload\n",
    "%autoreload 2"
   ]
  },
  {
   "cell_type": "code",
   "execution_count": 10,
   "id": "d73c0ccb-6d07-4f2e-8c14-29eda4ee1180",
   "metadata": {},
   "outputs": [
    {
     "data": {
      "application/vnd.jupyter.widget-view+json": {
       "model_id": "b649019f9ca3479e9506fe344b31f255",
       "version_major": 2,
       "version_minor": 0
      },
      "text/plain": [
       "Output()"
      ]
     },
     "metadata": {},
     "output_type": "display_data"
    },
    {
     "data": {
      "text/html": [
       "<pre style=\"white-space:pre;overflow-x:auto;line-height:normal;font-family:Menlo,'DejaVu Sans Mono',consolas,'Courier New',monospace\">TEST Pathogen loaded. Please enter your username to continue.\n",
       "</pre>\n"
      ],
      "text/plain": [
       "TEST Pathogen loaded. Please enter your username to continue.\n"
      ]
     },
     "metadata": {},
     "output_type": "display_data"
    },
    {
     "data": {
      "text/html": [
       "<pre style=\"white-space:pre;overflow-x:auto;line-height:normal;font-family:Menlo,'DejaVu Sans Mono',consolas,'Courier New',monospace\"></pre>\n"
      ],
      "text/plain": []
     },
     "metadata": {},
     "output_type": "display_data"
    }
   ],
   "source": [
    "from setup import run\n",
    "run()"
   ]
  },
  {
   "cell_type": "code",
   "execution_count": null,
   "id": "5cf6c6ca-a955-4744-a3d1-5d05b148a4b3",
   "metadata": {},
   "outputs": [],
   "source": []
  },
  {
   "cell_type": "code",
   "execution_count": 13,
   "id": "3c595e17-1fbe-4fed-a506-b254b7f1bf36",
   "metadata": {},
   "outputs": [
    {
     "name": "stdin",
     "output_type": "stream",
     "text": [
      "Username:  bb\n"
     ]
    },
    {
     "data": {
      "text/html": [
       "\n",
       "<style>\n",
       "body {\n",
       "  background: #333;\n",
       "  padding-top: 5em;\n",
       "  display: flex;\n",
       "  justify-content: center;\n",
       "}\n",
       "\n",
       "/* DEMO-SPECIFIC STYLES */\n",
       ".typewriter {\n",
       "  width: 100%;\n",
       "  color: black;\n",
       "  font-family: monospace;\n",
       "  //overflow: hidden; /* Ensures the content is not revealed until the animation */\n",
       "  //white-space: nowrap; /* Keeps the content on a single line */\n",
       "  margin: 0 auto; /* Gives that scrolling effect as the typing happens */\n",
       "  letter-spacing: .15em; /* Adjust as needed */\n",
       "//  animation:\n",
       "//    typing 3.5s steps(30, end);\n",
       " //   blink-caret .5s step-end infinite;\n",
       "}\n",
       "\n",
       "#last-word {\n",
       "    border-right: .15em solid black;\n",
       "    margin: 0 0;\n",
       "    padding: 0 0;\n",
       "    display: inline-block;\n",
       "    animation:\n",
       "    blink-caret .5s step-end infinite;\n",
       "}\n",
       "\n",
       "/* The typing effect */\n",
       "@keyframes typing {\n",
       "  from { width: 0 }\n",
       "  to { width: 100% }\n",
       "}\n",
       "\n",
       "/* The typewriter cursor effect */\n",
       "@keyframes blink-caret {\n",
       "  from, to { border-color: transparent }\n",
       "  50% { border-color: black }\n",
       "}\n",
       "</style>\n",
       "<div class=\"typewriter\" id=\"container\">Welcome to Pathogen, bb<span id=\"last-word\">!</span></div>\n"
      ],
      "text/plain": [
       "<IPython.core.display.HTML object>"
      ]
     },
     "metadata": {},
     "output_type": "display_data"
    },
    {
     "name": "stdout",
     "output_type": "stream",
     "text": [
      "I'm not interested in you, bb.\n"
     ]
    }
   ],
   "source": [
    "\n",
    "    import time\n",
    "    from ipylab import JupyterFrontEnd\n",
    "    app = JupyterFrontEnd()\n",
    "    from setup import typewrite \n",
    "    username = input(\"Username: \")\n",
    "    typewrite(f\"Welcome to Pathogen, {username}!\", 0.05)\n",
    "    print(f\"I'm not interested in you, {username}.\")\n",
    "    time.sleep(1)\n",
    "    app.commands.execute('notebook:delete-cells')\n",
    "    "
   ]
  },
  {
   "cell_type": "code",
   "execution_count": null,
   "id": "8f9db9dd-fb64-44f4-8315-354ccc7cb836",
   "metadata": {},
   "outputs": [],
   "source": []
  }
 ],
 "metadata": {
  "kernelspec": {
   "display_name": "Python 3 (ipykernel)",
   "language": "python",
   "name": "python3"
  },
  "language_info": {
   "codemirror_mode": {
    "name": "ipython",
    "version": 3
   },
   "file_extension": ".py",
   "mimetype": "text/x-python",
   "name": "python",
   "nbconvert_exporter": "python",
   "pygments_lexer": "ipython3",
   "version": "3.12.5"
  }
 },
 "nbformat": 4,
 "nbformat_minor": 5
}
