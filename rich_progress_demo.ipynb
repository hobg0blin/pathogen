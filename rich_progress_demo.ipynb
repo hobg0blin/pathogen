{
 "cells": [
  {
   "cell_type": "markdown",
   "id": "668c71d2",
   "metadata": {},
   "source": [
    "# Live-Updating Progress Bars in Jupyter Notebooks\n",
    "\n",
    "This notebook explores different approaches to displaying live-updating progress bars in Jupyter notebooks, focusing on `rich` and `tqdm` libraries.\n",
    "\n",
    "## 1. Install and Import Required Libraries\n",
    "\n",
    "First, let's install the required libraries if they're not already available."
   ]
  },
  {
   "cell_type": "code",
   "execution_count": 2,
   "id": "aebff2eb",
   "metadata": {},
   "outputs": [
    {
     "name": "stdout",
     "output_type": "stream",
     "text": [
      "Requirement already satisfied: rich in ./.venv/lib64/python3.12/site-packages (14.0.0)\n",
      "Collecting tqdm\n",
      "  Obtaining dependency information for tqdm from https://files.pythonhosted.org/packages/d0/30/dc54f88dd4a2b5dc8a0279bdd7270e735851848b762aeb1c1184ed1f6b14/tqdm-4.67.1-py3-none-any.whl.metadata\n",
      "  Downloading tqdm-4.67.1-py3-none-any.whl.metadata (57 kB)\n",
      "\u001b[2K     \u001b[90m━━━━━━━━━━━━━━━━━━━━━━━━━━━━━━━━━━━━━━━━\u001b[0m \u001b[32m57.7/57.7 kB\u001b[0m \u001b[31m8.2 MB/s\u001b[0m eta \u001b[36m0:00:00\u001b[0m\n",
      "Requirement already satisfied: markdown-it-py>=2.2.0 in ./.venv/lib64/python3.12/site-packages (from rich) (3.0.0)\n",
      "Requirement already satisfied: pygments<3.0.0,>=2.13.0 in ./.venv/lib64/python3.12/site-packages (from rich) (2.19.1)\n",
      "Requirement already satisfied: mdurl~=0.1 in ./.venv/lib64/python3.12/site-packages (from markdown-it-py>=2.2.0->rich) (0.1.2)\n",
      "Downloading tqdm-4.67.1-py3-none-any.whl (78 kB)\n",
      "\u001b[2K   \u001b[90m━━━━━━━━━━━━━━━━━━━━━━━━━━━━━━━━━━━━━━━━\u001b[0m \u001b[32m78.5/78.5 kB\u001b[0m \u001b[31m6.8 MB/s\u001b[0m eta \u001b[36m0:00:00\u001b[0m\n",
      "Installing collected packages: tqdm\n",
      "Successfully installed tqdm-4.67.1\n",
      "\n",
      "\u001b[1m[\u001b[0m\u001b[34;49mnotice\u001b[0m\u001b[1;39;49m]\u001b[0m\u001b[39;49m A new release of pip is available: \u001b[0m\u001b[31;49m23.2.1\u001b[0m\u001b[39;49m -> \u001b[0m\u001b[32;49m25.1.1\u001b[0m\n",
      "\u001b[1m[\u001b[0m\u001b[34;49mnotice\u001b[0m\u001b[1;39;49m]\u001b[0m\u001b[39;49m To update, run: \u001b[0m\u001b[32;49mpip install --upgrade pip\u001b[0m\n",
      "Libraries imported successfully!\n"
     ]
    }
   ],
   "source": [
    "# Install required libraries (uncomment if needed)\n",
    "!pip install rich tqdm\n",
    "\n",
    "# Import required libraries\n",
    "import time\n",
    "import threading\n",
    "from rich.progress import Progress, TaskID, BarColumn, TextColumn, TimeRemainingColumn\n",
    "from rich.live import Live\n",
    "from rich.console import Console\n",
    "from tqdm.notebook import tqdm\n",
    "import ipywidgets as widgets\n",
    "from IPython.display import display, clear_output\n",
    "\n",
    "print(\"Libraries imported successfully!\")"
   ]
  },
  {
   "cell_type": "markdown",
   "id": "7ad009e4",
   "metadata": {},
   "source": [
    "## 2. Basic Usage of `rich` Progress Bar in Jupyter\n",
    "\n",
    "Let's start with a basic example that demonstrates the problem you mentioned - the progress bar only shows after completion."
   ]
  },
  {
   "cell_type": "code",
   "execution_count": 5,
   "id": "dcd61326",
   "metadata": {},
   "outputs": [
    {
     "data": {
      "application/vnd.jupyter.widget-view+json": {
       "model_id": "d0321b7275a842e2b7da2d6fa4f4bffb",
       "version_major": 2,
       "version_minor": 0
      },
      "text/plain": [
       "Output()"
      ]
     },
     "metadata": {},
     "output_type": "display_data"
    },
    {
     "data": {
      "text/html": [
       "<pre style=\"white-space:pre;overflow-x:auto;line-height:normal;font-family:Menlo,'DejaVu Sans Mono',consolas,'Courier New',monospace\"></pre>\n"
      ],
      "text/plain": []
     },
     "metadata": {},
     "output_type": "display_data"
    },
    {
     "name": "stdout",
     "output_type": "stream",
     "text": [
      "Task completed!\n"
     ]
    }
   ],
   "source": [
    "# Basic rich progress bar - this will only show after completion\n",
    "def basic_rich_progress():\n",
    "    with Progress() as progress:\n",
    "        task = progress.add_task(\"[cyan]Processing...\", total=100)\n",
    "        \n",
    "        for i in range(100):\n",
    "            time.sleep(0.1)  # Simulate work\n",
    "            progress.update(task, advance=1)\n",
    "    \n",
    "    print(\"Task completed!\")\n",
    "\n",
    "# Run the basic example\n",
    "print(\"Running basic rich progress bar (will only show after completion):\")\n",
    "basic_rich_progress()"
   ]
  },
  {
   "cell_type": "markdown",
   "id": "0a7345a8",
   "metadata": {},
   "source": [
    "## 3. Live-Updating Progress Bar with `rich` in Jupyter\n",
    "\n",
    "The solution is to use `rich.live.Live` which provides live updating capabilities. Here are several approaches:"
   ]
  },
  {
   "cell_type": "code",
   "execution_count": null,
   "id": "a8457660",
   "metadata": {},
   "outputs": [
    {
     "name": "stdout",
     "output_type": "stream",
     "text": [
      "Running live-updating rich progress bar:\n"
     ]
    },
    {
     "ename": "NameError",
     "evalue": "name 'Progress' is not defined",
     "output_type": "error",
     "traceback": [
      "\u001b[31m---------------------------------------------------------------------------\u001b[39m",
      "\u001b[31mNameError\u001b[39m                                 Traceback (most recent call last)",
      "\u001b[36mCell\u001b[39m\u001b[36m \u001b[39m\u001b[32mIn[2]\u001b[39m\u001b[32m, line 24\u001b[39m\n\u001b[32m     22\u001b[39m \u001b[38;5;66;03m# Run the live example\u001b[39;00m\n\u001b[32m     23\u001b[39m \u001b[38;5;28mprint\u001b[39m(\u001b[33m\"\u001b[39m\u001b[33mRunning live-updating rich progress bar:\u001b[39m\u001b[33m\"\u001b[39m)\n\u001b[32m---> \u001b[39m\u001b[32m24\u001b[39m \u001b[43mlive_rich_progress\u001b[49m\u001b[43m(\u001b[49m\u001b[43m)\u001b[49m\n",
      "\u001b[36mCell\u001b[39m\u001b[36m \u001b[39m\u001b[32mIn[2]\u001b[39m\u001b[32m, line 4\u001b[39m, in \u001b[36mlive_rich_progress\u001b[39m\u001b[34m()\u001b[39m\n\u001b[32m      2\u001b[39m \u001b[38;5;28;01mdef\u001b[39;00m\u001b[38;5;250m \u001b[39m\u001b[34mlive_rich_progress\u001b[39m():\n\u001b[32m      3\u001b[39m     \u001b[38;5;66;03m# Create progress instance\u001b[39;00m\n\u001b[32m----> \u001b[39m\u001b[32m4\u001b[39m     progress = \u001b[43mProgress\u001b[49m(\n\u001b[32m      5\u001b[39m         TextColumn(\u001b[33m\"\u001b[39m\u001b[33m[bold blue]\u001b[39m\u001b[38;5;132;01m{task.fields[filename]}\u001b[39;00m\u001b[33m\"\u001b[39m, justify=\u001b[33m\"\u001b[39m\u001b[33mright\u001b[39m\u001b[33m\"\u001b[39m),\n\u001b[32m      6\u001b[39m         BarColumn(bar_width=\u001b[38;5;28;01mNone\u001b[39;00m),\n\u001b[32m      7\u001b[39m         \u001b[33m\"\u001b[39m\u001b[33m[progress.percentage]\u001b[39m\u001b[38;5;132;01m{task.percentage:>3.1f}\u001b[39;00m\u001b[33m%\u001b[39m\u001b[33m\"\u001b[39m,\n\u001b[32m      8\u001b[39m         \u001b[33m\"\u001b[39m\u001b[33m•\u001b[39m\u001b[33m\"\u001b[39m,\n\u001b[32m      9\u001b[39m         TimeRemainingColumn(),\n\u001b[32m     10\u001b[39m     )\n\u001b[32m     12\u001b[39m     task = progress.add_task(\u001b[33m\"\u001b[39m\u001b[33mProcessing\u001b[39m\u001b[33m\"\u001b[39m, filename=\u001b[33m\"\u001b[39m\u001b[33mdata.txt\u001b[39m\u001b[33m\"\u001b[39m, total=\u001b[32m100\u001b[39m)\n\u001b[32m     14\u001b[39m     \u001b[38;5;66;03m# Use Live context manager for real-time updates\u001b[39;00m\n",
      "\u001b[31mNameError\u001b[39m: name 'Progress' is not defined"
     ]
    }
   ],
   "source": [
    "# Approach 1: Using Live with Progress for live updates\n",
    "def live_rich_progress():\n",
    "    # Create progress instance\n",
    "    progress = Progress(\n",
    "        TextColumn(\"[bold blue]{task.fields[filename]}\", justify=\"right\"),\n",
    "        BarColumn(bar_width=None),\n",
    "        \"[progress.percentage]{task.percentage:>3.1f}%\",\n",
    "        \"•\",\n",
    "        TimeRemainingColumn(),\n",
    "    )\n",
    "    \n",
    "    task = progress.add_task(\"Processing\", filename=\"data.txt\", total=100)\n",
    "    \n",
    "    # Use Live context manager for real-time updates\n",
    "    with Live(progress, refresh_per_second=10) as live:\n",
    "        for i in range(100):\n",
    "            time.sleep(0.1)  # Simulate work\n",
    "            progress.update(task, advance=1)\n",
    "    \n",
    "    print(\"Live progress completed!\")\n",
    "\n",
    "# Run the live example\n",
    "print(\"Running live-updating rich progress bar:\")\n",
    "live_rich_progress()"
   ]
  },
  {
   "cell_type": "code",
   "execution_count": null,
   "id": "06e97f18",
   "metadata": {},
   "outputs": [],
   "source": [
    "# Approach 2: Multiple tasks with live updates\n",
    "def multiple_tasks_progress():\n",
    "    progress = Progress(\n",
    "        TextColumn(\"[bold blue]{task.fields[filename]}\"),\n",
    "        BarColumn(),\n",
    "        \"[progress.percentage]{task.percentage:>3.0f}%\",\n",
    "    )\n",
    "    \n",
    "    # Add multiple tasks\n",
    "    task1 = progress.add_task(\"Download\", filename=\"file1.txt\", total=50)\n",
    "    task2 = progress.add_task(\"Process\", filename=\"file2.txt\", total=75)\n",
    "    task3 = progress.add_task(\"Upload\", filename=\"file3.txt\", total=100)\n",
    "    \n",
    "    with Live(progress, refresh_per_second=4) as live:\n",
    "        for i in range(100):\n",
    "            time.sleep(0.05)\n",
    "            \n",
    "            # Update tasks at different rates\n",
    "            if i < 50:\n",
    "                progress.update(task1, advance=1)\n",
    "            if i < 75:\n",
    "                progress.update(task2, advance=1)\n",
    "            progress.update(task3, advance=1)\n",
    "    \n",
    "    print(\"Multiple tasks completed!\")\n",
    "\n",
    "# Run multiple tasks example\n",
    "print(\"Running multiple live-updating progress bars:\")\n",
    "multiple_tasks_progress()"
   ]
  },
  {
   "cell_type": "markdown",
   "id": "0e5ad5ff",
   "metadata": {},
   "source": [
    "## 4. Alternative: Using `tqdm` for Progress Bars in Jupyter\n",
    "\n",
    "`tqdm` has excellent Jupyter notebook support with `tqdm.notebook.tqdm`. It's specifically designed for live updates in Jupyter environments."
   ]
  },
  {
   "cell_type": "code",
   "execution_count": null,
   "id": "d86c8005",
   "metadata": {},
   "outputs": [],
   "source": [
    "# Simple tqdm progress bar - works great in Jupyter\n",
    "def simple_tqdm_progress():\n",
    "    for i in tqdm(range(100), desc=\"Processing\"):\n",
    "        time.sleep(0.05)  # Simulate work\n",
    "    print(\"tqdm simple progress completed!\")\n",
    "\n",
    "# Run simple tqdm example\n",
    "print(\"Running simple tqdm progress bar:\")\n",
    "simple_tqdm_progress()"
   ]
  },
  {
   "cell_type": "code",
   "execution_count": null,
   "id": "7a99844a",
   "metadata": {},
   "outputs": [],
   "source": [
    "# Manual tqdm with custom updates\n",
    "def manual_tqdm_progress():\n",
    "    pbar = tqdm(total=100, desc=\"Manual Process\")\n",
    "    \n",
    "    for i in range(100):\n",
    "        time.sleep(0.05)  # Simulate work\n",
    "        \n",
    "        # Update description and progress\n",
    "        pbar.set_description(f\"Step {i+1}/100\")\n",
    "        pbar.update(1)\n",
    "        \n",
    "        # Add custom postfix info\n",
    "        if i % 20 == 0:\n",
    "            pbar.set_postfix({\"Status\": f\"Phase {i//20 + 1}\"})\n",
    "    \n",
    "    pbar.close()\n",
    "    print(\"Manual tqdm progress completed!\")\n",
    "\n",
    "# Run manual tqdm example  \n",
    "print(\"Running manual tqdm progress bar with custom updates:\")\n",
    "manual_tqdm_progress()"
   ]
  },
  {
   "cell_type": "markdown",
   "id": "fdd07b5a",
   "metadata": {},
   "source": [
    "## 5. Comparison of `rich` and `tqdm` Progress Bars\n",
    "\n",
    "Let's compare both approaches side by side:"
   ]
  },
  {
   "cell_type": "markdown",
   "id": "21a6486a",
   "metadata": {},
   "source": [
    "### Comparison Table\n",
    "\n",
    "| Feature | `rich` with `Live` | `tqdm.notebook` |\n",
    "|---------|-------------------|-----------------|\n",
    "| Live Updates in Jupyter | ✅ Yes (with Live) | ✅ Yes (native) |\n",
    "| Setup Complexity | Medium | Simple |\n",
    "| Customization | High | Medium |\n",
    "| Multiple Progress Bars | ✅ Excellent | ✅ Good |\n",
    "| Visual Appeal | ✅ Very High | ✅ Good |\n",
    "| Jupyter Integration | Good | ✅ Excellent |\n",
    "| Performance | Good | ✅ Excellent |\n",
    "\n",
    "### Recommendations\n",
    "\n",
    "1. **For simple progress bars**: Use `tqdm.notebook.tqdm` - it's specifically designed for Jupyter and works out of the box.\n",
    "\n",
    "2. **For complex, multi-task progress tracking**: Use `rich` with `Live` - offers more customization and visual appeal.\n",
    "\n",
    "3. **For maximum compatibility**: `tqdm` has better Jupyter integration and fewer potential issues.\n",
    "\n",
    "4. **For beautiful output**: `rich` provides more styling options and prettier output."
   ]
  },
  {
   "cell_type": "code",
   "execution_count": null,
   "id": "e5fc7146",
   "metadata": {},
   "outputs": [],
   "source": [
    "# Final demonstration: Side-by-side comparison\n",
    "print(\"=== RICH Progress Bar (with Live) ===\")\n",
    "live_rich_progress()\n",
    "\n",
    "print(\"\\n=== TQDM Progress Bar ===\")\n",
    "simple_tqdm_progress()\n",
    "\n",
    "print(\"\\n🎉 Both approaches provide live-updating progress bars in Jupyter!\")\n",
    "print(\"Choose based on your specific needs and preferences.\")"
   ]
  }
 ],
 "metadata": {
  "kernelspec": {
   "display_name": "Python 3 (ipykernel)",
   "language": "python",
   "name": "python3"
  },
  "language_info": {
   "codemirror_mode": {
    "name": "ipython",
    "version": 3
   },
   "file_extension": ".py",
   "mimetype": "text/x-python",
   "name": "python",
   "nbconvert_exporter": "python",
   "pygments_lexer": "ipython3",
   "version": "3.12.5"
  }
 },
 "nbformat": 4,
 "nbformat_minor": 5
}
