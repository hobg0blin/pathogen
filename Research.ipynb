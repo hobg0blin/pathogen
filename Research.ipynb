{
 "cells": [
  {
   "cell_type": "markdown",
   "id": "5afc2578-b60c-4f53-8b12-4ffdfa629962",
   "metadata": {},
   "source": [
    "### Cell Creation Tests"
   ]
  },
  {
   "cell_type": "code",
   "execution_count": 7,
   "id": "9839c6ba-2b9a-4b55-a873-0bfcb3b16eb0",
   "metadata": {},
   "outputs": [
    {
     "name": "stdout",
     "output_type": "stream",
     "text": [
      "This is a code input cell\n"
     ]
    }
   ],
   "source": [
    "print(\"This is a code input cell\")"
   ]
  },
  {
   "cell_type": "markdown",
   "id": "7527d19c-633d-40b4-9c26-ba417bcb185c",
   "metadata": {},
   "source": [
    "This is a markdown input cell. It displays as markdown once you run it."
   ]
  },
  {
   "cell_type": "code",
   "execution_count": 8,
   "id": "188985c8-2236-4498-9ffd-2678a687931a",
   "metadata": {},
   "outputs": [],
   "source": [
    "get_ipython().set_next_input(\"<font color=red>I'm a cell!</font>\")"
   ]
  },
  {
   "cell_type": "code",
   "execution_count": 9,
   "id": "1ac22c02-bfd8-4e75-8c59-b773b2c05792",
   "metadata": {},
   "outputs": [
    {
     "ename": "SyntaxError",
     "evalue": "unterminated string literal (detected at line 1) (87616374.py, line 1)",
     "output_type": "error",
     "traceback": [
      "\u001b[0;36m  Cell \u001b[0;32mIn[9], line 1\u001b[0;36m\u001b[0m\n\u001b[0;31m    <font color=red>I'm a cell!</font>\u001b[0m\n\u001b[0m                     ^\u001b[0m\n\u001b[0;31mSyntaxError\u001b[0m\u001b[0;31m:\u001b[0m unterminated string literal (detected at line 1)\n"
     ]
    }
   ],
   "source": [
    "<font color=red>I'm a cell!</font>"
   ]
  },
  {
   "cell_type": "code",
   "execution_count": 10,
   "id": "4398d601-d7f5-4168-a0e6-b11b9f8c46ca",
   "metadata": {},
   "outputs": [],
   "source": [
    "get_ipython().set_next_input(\"print('im a code cell')\")"
   ]
  },
  {
   "cell_type": "code",
   "execution_count": 11,
   "id": "af0dd4e0-a1c3-4d99-880d-abda3fbe9a28",
   "metadata": {},
   "outputs": [
    {
     "name": "stdout",
     "output_type": "stream",
     "text": [
      "im a code cell\n"
     ]
    }
   ],
   "source": [
    "print('im a code cell')"
   ]
  },
  {
   "cell_type": "code",
   "execution_count": 12,
   "id": "69934551-0091-4e41-89b6-9a6381d1b883",
   "metadata": {},
   "outputs": [
    {
     "data": {
      "text/markdown": [
       "<font color=red>heffffo</font>"
      ],
      "text/plain": [
       "<IPython.core.display.Markdown object>"
      ]
     },
     "metadata": {},
     "output_type": "display_data"
    }
   ],
   "source": [
    "#run_cell_magic(magic_name, line, cell) Execute the given cell magic. Parameters:\n",
    "# magic_name : str Name of the desired magic function, without ‘%’ prefix. line : str The rest of the first input line as a single string. cell : str The body of the cell as a (possibly multiline) string.\n",
    "get_ipython().run_cell_magic(u'markdown', u'Pathogen', u'<font color=red>heffffo</font>')"
   ]
  },
  {
   "cell_type": "code",
   "execution_count": 13,
   "id": "cc4217d2-46ba-4025-9a7f-b521862f298a",
   "metadata": {},
   "outputs": [
    {
     "name": "stdout",
     "output_type": "stream",
     "text": [
      "I am a code cell\n"
     ]
    }
   ],
   "source": [
    "get_ipython().run_cell_magic(u'python3', u'', u'print(\"I am a code cell\")')"
   ]
  },
  {
   "cell_type": "code",
   "execution_count": 14,
   "id": "c8663ab6-8966-4be1-8828-7f32703f388b",
   "metadata": {},
   "outputs": [
    {
     "name": "stdout",
     "output_type": "stream",
     "text": [
      "Send the specified text to the frontend to be presented at the next\n",
      "        input cell.\n"
     ]
    }
   ],
   "source": [
    "print(get_ipython().set_next_input.__doc__)"
   ]
  },
  {
   "cell_type": "code",
   "execution_count": 15,
   "id": "0a1f74dd-d768-41eb-8876-c01918d068a5",
   "metadata": {},
   "outputs": [
    {
     "data": {
      "application/json": {
       "cell": {
        "!": "OSMagics",
        "HTML": "Other",
        "SVG": "Other",
        "bash": "Other",
        "capture": "ExecutionMagics",
        "code_wrap": "ExecutionMagics",
        "debug": "ExecutionMagics",
        "file": "Other",
        "html": "DisplayMagics",
        "javascript": "DisplayMagics",
        "js": "DisplayMagics",
        "latex": "DisplayMagics",
        "markdown": "DisplayMagics",
        "perl": "Other",
        "prun": "ExecutionMagics",
        "pypy": "Other",
        "python": "Other",
        "python2": "Other",
        "python3": "Other",
        "ruby": "Other",
        "script": "ScriptMagics",
        "sh": "Other",
        "svg": "DisplayMagics",
        "sx": "OSMagics",
        "system": "OSMagics",
        "time": "ExecutionMagics",
        "timeit": "ExecutionMagics",
        "writefile": "OSMagics"
       },
       "line": {
        "alias": "OSMagics",
        "alias_magic": "BasicMagics",
        "autoawait": "AsyncMagics",
        "autocall": "AutoMagics",
        "automagic": "AutoMagics",
        "autosave": "KernelMagics",
        "bookmark": "OSMagics",
        "cat": "Other",
        "cd": "OSMagics",
        "clear": "KernelMagics",
        "code_wrap": "ExecutionMagics",
        "colors": "BasicMagics",
        "conda": "PackagingMagics",
        "config": "ConfigMagics",
        "connect_info": "KernelMagics",
        "cp": "Other",
        "debug": "ExecutionMagics",
        "dhist": "OSMagics",
        "dirs": "OSMagics",
        "doctest_mode": "BasicMagics",
        "ed": "Other",
        "edit": "KernelMagics",
        "env": "OSMagics",
        "gui": "BasicMagics",
        "hist": "Other",
        "history": "HistoryMagics",
        "killbgscripts": "ScriptMagics",
        "ldir": "Other",
        "less": "KernelMagics",
        "lf": "Other",
        "lk": "Other",
        "ll": "Other",
        "load": "CodeMagics",
        "load_ext": "ExtensionMagics",
        "loadpy": "CodeMagics",
        "logoff": "LoggingMagics",
        "logon": "LoggingMagics",
        "logstart": "LoggingMagics",
        "logstate": "LoggingMagics",
        "logstop": "LoggingMagics",
        "ls": "Other",
        "lsmagic": "BasicMagics",
        "lx": "Other",
        "macro": "ExecutionMagics",
        "magic": "BasicMagics",
        "mamba": "PackagingMagics",
        "man": "KernelMagics",
        "matplotlib": "PylabMagics",
        "micromamba": "PackagingMagics",
        "mkdir": "Other",
        "more": "KernelMagics",
        "mv": "Other",
        "notebook": "BasicMagics",
        "page": "BasicMagics",
        "pastebin": "CodeMagics",
        "pdb": "ExecutionMagics",
        "pdef": "NamespaceMagics",
        "pdoc": "NamespaceMagics",
        "pfile": "NamespaceMagics",
        "pinfo": "NamespaceMagics",
        "pinfo2": "NamespaceMagics",
        "pip": "PackagingMagics",
        "popd": "OSMagics",
        "pprint": "BasicMagics",
        "precision": "BasicMagics",
        "prun": "ExecutionMagics",
        "psearch": "NamespaceMagics",
        "psource": "NamespaceMagics",
        "pushd": "OSMagics",
        "pwd": "OSMagics",
        "pycat": "OSMagics",
        "pylab": "PylabMagics",
        "qtconsole": "KernelMagics",
        "quickref": "BasicMagics",
        "recall": "HistoryMagics",
        "rehashx": "OSMagics",
        "reload_ext": "ExtensionMagics",
        "rep": "Other",
        "rerun": "HistoryMagics",
        "reset": "NamespaceMagics",
        "reset_selective": "NamespaceMagics",
        "rm": "Other",
        "rmdir": "Other",
        "run": "ExecutionMagics",
        "save": "CodeMagics",
        "sc": "OSMagics",
        "set_env": "OSMagics",
        "store": "StoreMagics",
        "sx": "OSMagics",
        "system": "OSMagics",
        "tb": "ExecutionMagics",
        "time": "ExecutionMagics",
        "timeit": "ExecutionMagics",
        "unalias": "OSMagics",
        "unload_ext": "ExtensionMagics",
        "uv": "PackagingMagics",
        "who": "NamespaceMagics",
        "who_ls": "NamespaceMagics",
        "whos": "NamespaceMagics",
        "xdel": "NamespaceMagics",
        "xmode": "BasicMagics"
       }
      },
      "text/plain": [
       "Available line magics:\n",
       "%alias  %alias_magic  %autoawait  %autocall  %automagic  %autosave  %bookmark  %cat  %cd  %clear  %code_wrap  %colors  %conda  %config  %connect_info  %cp  %debug  %dhist  %dirs  %doctest_mode  %ed  %edit  %env  %gui  %hist  %history  %killbgscripts  %ldir  %less  %lf  %lk  %ll  %load  %load_ext  %loadpy  %logoff  %logon  %logstart  %logstate  %logstop  %ls  %lsmagic  %lx  %macro  %magic  %mamba  %man  %matplotlib  %micromamba  %mkdir  %more  %mv  %notebook  %page  %pastebin  %pdb  %pdef  %pdoc  %pfile  %pinfo  %pinfo2  %pip  %popd  %pprint  %precision  %prun  %psearch  %psource  %pushd  %pwd  %pycat  %pylab  %qtconsole  %quickref  %recall  %rehashx  %reload_ext  %rep  %rerun  %reset  %reset_selective  %rm  %rmdir  %run  %save  %sc  %set_env  %store  %sx  %system  %tb  %time  %timeit  %unalias  %unload_ext  %uv  %who  %who_ls  %whos  %xdel  %xmode\n",
       "\n",
       "Available cell magics:\n",
       "%%!  %%HTML  %%SVG  %%bash  %%capture  %%code_wrap  %%debug  %%file  %%html  %%javascript  %%js  %%latex  %%markdown  %%perl  %%prun  %%pypy  %%python  %%python2  %%python3  %%ruby  %%script  %%sh  %%svg  %%sx  %%system  %%time  %%timeit  %%writefile\n",
       "\n",
       "Automagic is ON, % prefix IS NOT needed for line magics."
      ]
     },
     "execution_count": 15,
     "metadata": {},
     "output_type": "execute_result"
    }
   ],
   "source": [
    "get_ipython().run_line_magic(\"lsmagic\", \"\")"
   ]
  },
  {
   "cell_type": "code",
   "execution_count": 16,
   "id": "86dd29aa-1b79-40c3-878c-da70b960f30d",
   "metadata": {},
   "outputs": [
    {
     "ename": "TypeError",
     "evalue": "ZMQInteractiveShell.set_next_input() got an unexpected keyword argument 'type'",
     "output_type": "error",
     "traceback": [
      "\u001b[0;31m---------------------------------------------------------------------------\u001b[0m",
      "\u001b[0;31mTypeError\u001b[0m                                 Traceback (most recent call last)",
      "Cell \u001b[0;32mIn[16], line 1\u001b[0m\n\u001b[0;32m----> 1\u001b[0m \u001b[43mget_ipython\u001b[49m\u001b[43m(\u001b[49m\u001b[43m)\u001b[49m\u001b[38;5;241;43m.\u001b[39;49m\u001b[43mset_next_input\u001b[49m\u001b[43m(\u001b[49m\u001b[38;5;124;43m\"\u001b[39;49m\u001b[38;5;124;43mis this markdown?\u001b[39;49m\u001b[38;5;124;43m\"\u001b[39;49m\u001b[43m,\u001b[49m\u001b[43m \u001b[49m\u001b[38;5;28;43mtype\u001b[39;49m\u001b[38;5;241;43m=\u001b[39;49m\u001b[38;5;124;43m\"\u001b[39;49m\u001b[38;5;124;43mmarkdown\u001b[39;49m\u001b[38;5;124;43m\"\u001b[39;49m\u001b[43m)\u001b[49m\n",
      "\u001b[0;31mTypeError\u001b[0m: ZMQInteractiveShell.set_next_input() got an unexpected keyword argument 'type'"
     ]
    }
   ],
   "source": [
    "get_ipython().set_next_input(\"is this markdown?\", type=\"markdown\")"
   ]
  },
  {
   "cell_type": "code",
   "execution_count": 17,
   "id": "b197d630-4f83-4e26-9f8b-c1d3f4e40d6a",
   "metadata": {},
   "outputs": [],
   "source": [
    "from IPython.display import display_markdown"
   ]
  },
  {
   "cell_type": "code",
   "execution_count": 18,
   "id": "df825c70-be69-4685-8079-e83ded3db209",
   "metadata": {},
   "outputs": [
    {
     "data": {
      "text/markdown": [
       "# This might actually be a markdown cell"
      ]
     },
     "metadata": {},
     "output_type": "display_data"
    }
   ],
   "source": [
    "display_markdown('''# This might actually be a markdown cell''', raw=True)"
   ]
  },
  {
   "cell_type": "code",
   "execution_count": 19,
   "id": "88227162-9397-4bf2-bd77-9c80c5059f1a",
   "metadata": {},
   "outputs": [],
   "source": [
    "#OK that wasn't exactly what I wanted\n",
    "#Trying this method from the Jupyter forums \n",
    "def new_section(title='New section'):\n",
    "    style = \"text-align:center;background:#c2d3ef;padding:16px;color:#ffffff;font-size:2em;width:98%\"\n",
    "    div = f'<div style=\"{style}\">{title}</div>'\n",
    "    return get_ipython().set_next_input(div, replace=True)"
   ]
  },
  {
   "cell_type": "code",
   "execution_count": 20,
   "id": "02d028e6-45fc-4e87-9b01-23a78d76817c",
   "metadata": {},
   "outputs": [
    {
     "ename": "SyntaxError",
     "evalue": "invalid syntax (1757079315.py, line 1)",
     "output_type": "error",
     "traceback": [
      "\u001b[0;36m  Cell \u001b[0;32mIn[20], line 1\u001b[0;36m\u001b[0m\n\u001b[0;31m    <div style=\"text-align:center;background:#c2d3ef;padding:16px;color:#ffffff;font-size:2em;width:98%\">New section</div>\u001b[0m\n\u001b[0m    ^\u001b[0m\n\u001b[0;31mSyntaxError\u001b[0m\u001b[0;31m:\u001b[0m invalid syntax\n"
     ]
    }
   ],
   "source": [
    "<div style=\"text-align:center;background:#c2d3ef;padding:16px;color:#ffffff;font-size:2em;width:98%\">New section</div>"
   ]
  },
  {
   "cell_type": "code",
   "execution_count": 1,
   "id": "da958867-7e11-4827-ad49-4dc03fc6831b",
   "metadata": {},
   "outputs": [],
   "source": [
    "#OK still not what I wanted. Pulling this alleged workaround from a github issue\n",
    "from ipylab import JupyterFrontEnd\n",
    "app = JupyterFrontEnd()\n",
    "\n",
    "text = \"hi\"\n",
    "import time\n",
    "\n",
    "app.commands.execute('notebook:insert-cell-below')\n",
    "time.sleep(0.05)\n",
    "    \n",
    "app.commands.execute('notebook:replace-selection', { 'text':  u'<font color=red>Will this work</font>', 'type': 'markdown'})\n",
    "time.sleep(0.05)"
   ]
  },
  {
   "cell_type": "code",
   "execution_count": 22,
   "id": "57ea2d0b-159b-4a22-ac4f-b5195ebb4faf",
   "metadata": {},
   "outputs": [
    {
     "ename": "SyntaxError",
     "evalue": "invalid syntax (576744130.py, line 1)",
     "output_type": "error",
     "traceback": [
      "\u001b[0;36m  Cell \u001b[0;32mIn[22], line 1\u001b[0;36m\u001b[0m\n\u001b[0;31m    <font color=red>Will this work</font>\u001b[0m\n\u001b[0m    ^\u001b[0m\n\u001b[0;31mSyntaxError\u001b[0m\u001b[0;31m:\u001b[0m invalid syntax\n"
     ]
    }
   ],
   "source": [
    "<font color=red>Will this work</font>"
   ]
  },
  {
   "cell_type": "code",
   "execution_count": null,
   "id": "f86b422c-a7af-4f96-84ca-050b8411bf48",
   "metadata": {},
   "outputs": [],
   "source": [
    "<font color=red>Will this work</font>"
   ]
  },
  {
   "cell_type": "code",
   "execution_count": 2,
   "id": "23b20e07-38a6-4c91-ae4c-29e179994fcf",
   "metadata": {},
   "outputs": [],
   "source": [
    "import ipywidgets as widgets"
   ]
  },
  {
   "cell_type": "code",
   "execution_count": 3,
   "id": "a9c00cdc-44f1-4748-b406-48798d8ffd53",
   "metadata": {},
   "outputs": [
    {
     "data": {
      "application/vnd.jupyter.widget-view+json": {
       "model_id": "e34eb61af3dc4b7cb76e9a6134369042",
       "version_major": 2,
       "version_minor": 0
      },
      "text/plain": [
       "HTML(value='<font color=red>HELLO</font>')"
      ]
     },
     "execution_count": 3,
     "metadata": {},
     "output_type": "execute_result"
    }
   ],
   "source": [
    "widgets.HTML(\n",
    "    value=\"<font color=red>HELLO</font>\"\n",
    ")"
   ]
  },
  {
   "cell_type": "markdown",
   "id": "3da27f54-cb32-416f-a1c6-3e9c0bf038ef",
   "metadata": {},
   "source": [
    "### Animation Tests"
   ]
  },
  {
   "cell_type": "markdown",
   "id": "7bccb8cb-f68e-4939-96bf-8ad10dedc9b2",
   "metadata": {},
   "source": [
    "Same as above - arguably simpler than worrying about widgets?"
   ]
  },
  {
   "cell_type": "code",
   "execution_count": 8,
   "id": "39738c5b-8285-4381-b2f8-1eeb779df995",
   "metadata": {},
   "outputs": [
    {
     "data": {
      "text/html": [
       "\n",
       "<style>\n",
       "body {\n",
       "  background: #333;\n",
       "  padding-top: 5em;\n",
       "  display: flex;\n",
       "  justify-content: center;\n",
       "}\n",
       "\n",
       "/* DEMO-SPECIFIC STYLES */\n",
       ".typewriter h1 {\n",
       "  color: black;\n",
       "  font-family: monospace;\n",
       "  overflow: hidden; /* Ensures the content is not revealed until the animation */\n",
       "  border-right: .15em solid orange; /* The typwriter cursor */\n",
       "  white-space: nowrap; /* Keeps the content on a single line */\n",
       "  margin: 0 auto; /* Gives that scrolling effect as the typing happens */\n",
       "  letter-spacing: .15em; /* Adjust as needed */\n",
       "  animation:\n",
       "    typing 3.5s steps(30, end),\n",
       "    blink-caret .5s step-end infinite;\n",
       "}\n",
       "\n",
       "/* The typing effect */\n",
       "@keyframes typing {\n",
       "  from { width: 0 }\n",
       "  to { width: 100% }\n",
       "}\n",
       "\n",
       "/* The typewriter cursor effect */\n",
       "@keyframes blink-caret {\n",
       "  from, to { border-color: transparent }\n",
       "  50% { border-color: orange }\n",
       "}\n",
       "\n",
       "</style>\n",
       "\n",
       "     <div class=\"typewriter\">\n",
       "<h1>This is an animated text.</h1>\n",
       "</div>\n"
      ],
      "text/plain": [
       "<IPython.core.display.HTML object>"
      ]
     },
     "execution_count": 8,
     "metadata": {},
     "output_type": "execute_result"
    }
   ],
   "source": [
    "from IPython.core.display import HTML\n",
    "\n",
    "#Got from stackoverflow but seems to come originally from css-tricks https://css-tricks.com/snippets/css/typewriter-effect/\n",
    "\n",
    "\n",
    "HTML(\"\"\"\n",
    "<style>\n",
    "body {\n",
    "  background: #333;\n",
    "  padding-top: 5em;\n",
    "  display: flex;\n",
    "  justify-content: center;\n",
    "}\n",
    "\n",
    "/* DEMO-SPECIFIC STYLES */\n",
    ".typewriter h1 {\n",
    "  color: black;\n",
    "  font-family: monospace;\n",
    "  overflow: hidden; /* Ensures the content is not revealed until the animation */\n",
    "  border-right: .15em solid orange; /* The typwriter cursor */\n",
    "  white-space: nowrap; /* Keeps the content on a single line */\n",
    "  margin: 0 auto; /* Gives that scrolling effect as the typing happens */\n",
    "  letter-spacing: .15em; /* Adjust as needed */\n",
    "  animation:\n",
    "    typing 3.5s steps(30, end),\n",
    "    blink-caret .5s step-end infinite;\n",
    "}\n",
    "\n",
    "/* The typing effect */\n",
    "@keyframes typing {\n",
    "  from { width: 0 }\n",
    "  to { width: 100% }\n",
    "}\n",
    "\n",
    "/* The typewriter cursor effect */\n",
    "@keyframes blink-caret {\n",
    "  from, to { border-color: transparent }\n",
    "  50% { border-color: orange }\n",
    "}\n",
    "\n",
    "</style>\n",
    "\n",
    "     <div class=\"typewriter\">\n",
    "<h1>This is an animated text.</h1>\n",
    "</div>\n",
    "\"\"\")"
   ]
  },
  {
   "cell_type": "code",
   "execution_count": 2,
   "id": "21a2d105-db4c-4411-a912-93c7b8723ece",
   "metadata": {},
   "outputs": [],
   "source": [
    "#PyAutoGui doesn't appear to play nice inside a notebook - some external references to using scripts outside the notebook but nothing I can figure out quickly\n",
    "#import pyautogui\n",
    "#pyautogui.typewrite('Hello world!\\n', interval=1)"
   ]
  },
  {
   "cell_type": "code",
   "execution_count": 4,
   "id": "9a9912de-459a-45db-948f-b0aa66c358bc",
   "metadata": {},
   "outputs": [
    {
     "ename": "NameError",
     "evalue": "name 'HTML' is not defined",
     "output_type": "error",
     "traceback": [
      "\u001b[0;31m---------------------------------------------------------------------------\u001b[0m",
      "\u001b[0;31mNameError\u001b[0m                                 Traceback (most recent call last)",
      "Cell \u001b[0;32mIn[4], line 13\u001b[0m\n\u001b[1;32m     11\u001b[0m         time\u001b[38;5;241m.\u001b[39msleep(interval)\n\u001b[1;32m     12\u001b[0m         i\u001b[38;5;241m+\u001b[39m\u001b[38;5;241m=\u001b[39m\u001b[38;5;241m1\u001b[39m\n\u001b[0;32m---> 13\u001b[0m \u001b[43mtypewrite\u001b[49m\u001b[43m(\u001b[49m\u001b[38;5;124;43m\"\u001b[39;49m\u001b[38;5;124;43mSpooooooooooooky\u001b[39;49m\u001b[38;5;124;43m\"\u001b[39;49m\u001b[43m,\u001b[49m\u001b[43m \u001b[49m\u001b[38;5;241;43m0.1\u001b[39;49m\u001b[43m)\u001b[49m\n",
      "Cell \u001b[0;32mIn[4], line 6\u001b[0m, in \u001b[0;36mtypewrite\u001b[0;34m(text, interval)\u001b[0m\n\u001b[1;32m      4\u001b[0m \u001b[38;5;28;01mdef\u001b[39;00m\u001b[38;5;250m \u001b[39m\u001b[38;5;21mtypewrite\u001b[39m(text, interval):\n\u001b[1;32m      5\u001b[0m     test_string \u001b[38;5;241m=\u001b[39m \u001b[38;5;124m\"\u001b[39m\u001b[38;5;124m\"\u001b[39m\n\u001b[0;32m----> 6\u001b[0m     display\u001b[38;5;241m.\u001b[39mdisplay(\u001b[43mHTML\u001b[49m(test_string), display_id\u001b[38;5;241m=\u001b[39m\u001b[38;5;124m'\u001b[39m\u001b[38;5;124moutput\u001b[39m\u001b[38;5;124m'\u001b[39m)\n\u001b[1;32m      7\u001b[0m     i \u001b[38;5;241m=\u001b[39m \u001b[38;5;241m0\u001b[39m\n\u001b[1;32m      8\u001b[0m     \u001b[38;5;28;01mwhile\u001b[39;00m i \u001b[38;5;241m<\u001b[39m \u001b[38;5;28mlen\u001b[39m(text):\n",
      "\u001b[0;31mNameError\u001b[0m: name 'HTML' is not defined"
     ]
    }
   ],
   "source": [
    "import time\n",
    "from IPython import display\n",
    "# Let's try it a bit more old-fashioned\n",
    "def typewrite(text, interval):\n",
    "    test_string = \"\"\n",
    "    display.display(HTML(test_string), display_id='output')\n",
    "    i = 0\n",
    "    while i < len(text):\n",
    "        test_string += text[i]\n",
    "        display.update_display(HTML(test_string), display_id='output')\n",
    "        time.sleep(interval)\n",
    "        i+=1\n",
    "typewrite(\"Spooooooooooooky\", 0.1)"
   ]
  },
  {
   "cell_type": "code",
   "execution_count": 178,
   "id": "fb32ce3b-4677-4c9e-a201-9865434e0bce",
   "metadata": {},
   "outputs": [],
   "source": [
    "#OK, that's great, but I don't really want to manually re-enter the actual targeted text in the HTML every time. Let's try wrapping it:\n",
    "#Borrowing from here: https://stackoverflow.com/questions/17564459/wrapping-html-with-a-python-function\n",
    "\n",
    "\n",
    "\n",
    "from bs4 import BeautifulSoup\n",
    "wrapper_html = \"\"\"\n",
    "<style>\n",
    "body {\n",
    "  background: #333;\n",
    "  padding-top: 5em;\n",
    "  display: flex;\n",
    "  justify-content: center;\n",
    "}\n",
    "\n",
    "/* DEMO-SPECIFIC STYLES */\n",
    ".typewriter {\n",
    "  width: 100%;\n",
    "  color: black;\n",
    "  font-family: monospace;\n",
    "  //overflow: hidden; /* Ensures the content is not revealed until the animation */\n",
    "  //white-space: nowrap; /* Keeps the content on a single line */\n",
    "  margin: 0 auto; /* Gives that scrolling effect as the typing happens */\n",
    "  letter-spacing: .15em; /* Adjust as needed */\n",
    "//  animation:\n",
    "//    typing 3.5s steps(30, end);\n",
    " //   blink-caret .5s step-end infinite;\n",
    "}\n",
    "\n",
    "#last-word {\n",
    "    border-right: .15em solid black;\n",
    "    margin: 0 0;\n",
    "    padding: 0 0;\n",
    "    display: inline-block;\n",
    "    animation:\n",
    "        blink-caret .05s step-end infinite;\n",
    "}\n",
    "\n",
    "/* The typing effect */\n",
    "@keyframes typing {\n",
    "  from { width: 0 }\n",
    "  to { width: 100% }\n",
    "}\n",
    "\n",
    "/* The typewriter cursor effect */\n",
    "@keyframes blink-caret {\n",
    "  from, to { border-color: transparent }\n",
    "  50% { border-color: black }\n",
    "}\n",
    "</style>\n",
    "\n",
    "<div class=\"typewriter\" id=\"container\">\n",
    "</div>\n",
    "\"\"\"\n",
    "\n",
    "word_styling = \"\"\"<span id=\"last-word\"></span>\"\"\"\n",
    "corpus = \"CHAPTER 1. Loomings. \\n Call me Ishmael. Some years ago—never mind how long precisely—having little or no money in my purse, and nothing particular to interest me on shore, I thought I would sail about a little and see the watery part of the world. It is a way I have of driving off the spleen and regulating the circulation. Whenever I find myself growing grim about the mouth; whenever it is a damp, drizzly November in my soul; whenever I find myself involuntarily pausing before coffin warehouses, and bringing up the rear of every funeral I meet; and especially whenever my hypos get such an upper hand of me, that it requires a strong moral principle to prevent me from deliberately stepping into the street, and methodically knocking people’s hats off—then, I account it high time to get to sea as soon as I can. This is my substitute for pistol and ball. With a philosophical flourish Cato throws himself upon his sword; I quietly take to the ship. There is nothing surprising in this. If they but knew it, almost all men in their degree, some time or other, cherish very nearly the same feelings towards the ocean with me.\"\n",
    "#div1 is to be wrapped with div2\n",
    "def wrap(doc, target_el, target_id, input_text):\n",
    "    soup = BeautifulSoup(doc, 'html')\n",
    "    target = soup.find(target_el, attrs={'id': target_id })\n",
    "    target.clear()\n",
    "    target.append(input_text)\n",
    "    return soup\n",
    "\n"
   ]
  },
  {
   "cell_type": "code",
   "execution_count": 3,
   "id": "c6211471-67da-4520-8c69-9ee30e7cc0c7",
   "metadata": {},
   "outputs": [
    {
     "ename": "NameError",
     "evalue": "name 'corpus' is not defined",
     "output_type": "error",
     "traceback": [
      "\u001b[0;31m---------------------------------------------------------------------------\u001b[0m",
      "\u001b[0;31mNameError\u001b[0m                                 Traceback (most recent call last)",
      "Cell \u001b[0;32mIn[3], line 29\u001b[0m\n\u001b[1;32m     27\u001b[0m         time\u001b[38;5;241m.\u001b[39msleep(interval)\n\u001b[1;32m     28\u001b[0m         i\u001b[38;5;241m+\u001b[39m\u001b[38;5;241m=\u001b[39m\u001b[38;5;241m1\u001b[39m\n\u001b[0;32m---> 29\u001b[0m typewrite(\u001b[43mcorpus\u001b[49m, \u001b[38;5;241m0.1\u001b[39m)\n",
      "\u001b[0;31mNameError\u001b[0m: name 'corpus' is not defined"
     ]
    }
   ],
   "source": [
    "import time\n",
    "from IPython import display\n",
    "# OK, almost there, but multiline text looks weird with the CSS effects, and I think \"overflow-hidden\" \n",
    "# is causing it to jump around as the text expands\n",
    "# Let's keep the blink caret and only apply it to the last word in the string\n",
    "def typewrite(text, interval):\n",
    "    test_string = \"\"\n",
    "    display.display(HTML(test_string), display_id='output')\n",
    "    i = 0\n",
    "    \n",
    "    while i < len(list(text)):\n",
    "        test_string += list(text)[i]\n",
    "        word_list = list(test_string)\n",
    "        to_wrap = word_list.pop()\n",
    "       # print('to wrap: ', to_wrap)\n",
    "        #print('add_cursor: ', add_cursor)\n",
    "        # word_list.append(to_wrap)\n",
    "        #print(\"word_list: \", word_list)\n",
    "        output = ''.join(word_list)\n",
    "        #print('output: ', output)\n",
    "        wrap_all = wrap(wrapper_html, \"div\", \"container\", output)\n",
    "        if to_wrap != \" \":\n",
    "            add_cursor = wrap(word_styling, \"span\", \"last-word\", to_wrap)\n",
    "            wrap_all.find('div', attrs={'id': 'container'}).append(add_cursor)\n",
    "        # print('wrap_all: ', str(wrap_all))\n",
    "        display.update_display(HTML(str(wrap_all)), display_id='output')\n",
    "        time.sleep(interval)\n",
    "        i+=1\n",
    "typewrite(corpus, 0.1)"
   ]
  },
  {
   "cell_type": "code",
   "execution_count": null,
   "id": "2f1b3de3-b6bd-45d5-b8d7-ed7736635751",
   "metadata": {},
   "outputs": [],
   "source": []
  },
  {
   "cell_type": "markdown",
   "id": "933212ca-7fd5-4112-8287-c7dc7273b94a",
   "metadata": {},
   "source": [
    "## Branching Routes"
   ]
  },
  {
   "cell_type": "markdown",
   "id": "29c0a876-f22e-4a6e-99d4-30adf83dfeb2",
   "metadata": {},
   "source": [
    "[Hiding and removing code cells](https://jupyterbook.org/en/stable/interactive/hiding.html#hide-code-cell-content)\n",
    "\n"
   ]
  },
  {
   "cell_type": "code",
   "execution_count": 1,
   "id": "ce682355-1f39-4ac9-9ea3-96e40bad0047",
   "metadata": {},
   "outputs": [],
   "source": [
    "# %load test.py\n",
    "print('Loading code from another file...')"
   ]
  },
  {
   "cell_type": "markdown",
   "id": "13e3b614-be9c-433f-a83c-45d62fa36259",
   "metadata": {},
   "source": [
    "[Skipping which cells to execute](https://stackoverflow.com/questions/26494747/simple-way-to-choose-which-cells-to-run-in-ipython-notebook-during-run-all)"
   ]
  },
  {
   "cell_type": "markdown",
   "id": "a64fb916-19b1-47ff-a9f5-cc17e1461b5c",
   "metadata": {},
   "source": [
    "To load script: `%load {file}.py`\n",
    "To run: `%run {file.py}`"
   ]
  },
  {
   "cell_type": "code",
   "execution_count": null,
   "id": "445aa3ed-2856-4424-9e71-e2383d6fc647",
   "metadata": {},
   "outputs": [],
   "source": []
  }
 ],
 "metadata": {
  "kernelspec": {
   "display_name": "Python 3 (ipykernel)",
   "language": "python",
   "name": "python3"
  },
  "language_info": {
   "codemirror_mode": {
    "name": "ipython",
    "version": 3
   },
   "file_extension": ".py",
   "mimetype": "text/x-python",
   "name": "python",
   "nbconvert_exporter": "python",
   "pygments_lexer": "ipython3",
   "version": "3.12.5"
  }
 },
 "nbformat": 4,
 "nbformat_minor": 5
}
